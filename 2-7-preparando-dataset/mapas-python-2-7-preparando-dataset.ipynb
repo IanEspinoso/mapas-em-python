{
 "cells": [
  {
   "cell_type": "markdown",
   "metadata": {},
   "source": [
    "# Mapas em Python [2/7]: Preparando o dataset\n",
    "\n",
    "### O dataset possui informações sobre Boletins de Ocorrência na cidade de São Paulo. Nosso objetivo, neste exemplo, é organizar um subset para servir de base para construção de mapas."
   ]
  },
  {
   "cell_type": "code",
   "execution_count": 1,
   "metadata": {},
   "outputs": [],
   "source": [
    "import numpy as np\n",
    "import pandas as pd\n",
    "import matplotlib.pyplot as plt\n",
    "import matplotlib.ticker as plticker\n",
    "import seaborn as sns\n",
    "\n",
    "# Pedir para o pandas mostrar toda as as colunas do dataset\n",
    "pd.options.display.max_columns = None"
   ]
  },
  {
   "cell_type": "markdown",
   "metadata": {},
   "source": [
    "## 1) Importar o dataset"
   ]
  },
  {
   "cell_type": "code",
   "execution_count": 2,
   "metadata": {},
   "outputs": [],
   "source": [
    "data = pd.read_csv('BO_2016.csv', low_memory=False)"
   ]
  },
  {
   "cell_type": "code",
   "execution_count": 3,
   "metadata": {},
   "outputs": [
    {
     "data": {
      "text/html": [
       "<div>\n",
       "<style scoped>\n",
       "    .dataframe tbody tr th:only-of-type {\n",
       "        vertical-align: middle;\n",
       "    }\n",
       "\n",
       "    .dataframe tbody tr th {\n",
       "        vertical-align: top;\n",
       "    }\n",
       "\n",
       "    .dataframe thead th {\n",
       "        text-align: right;\n",
       "    }\n",
       "</style>\n",
       "<table border=\"1\" class=\"dataframe\">\n",
       "  <thead>\n",
       "    <tr style=\"text-align: right;\">\n",
       "      <th></th>\n",
       "      <th>NUM_BO</th>\n",
       "      <th>ANO_BO</th>\n",
       "      <th>ID_DELEGACIA</th>\n",
       "      <th>NOME_DEPARTAMENTO</th>\n",
       "      <th>NOME_SECCIONAL</th>\n",
       "      <th>DELEGACIA</th>\n",
       "      <th>NOME_DEPARTAMENTO_CIRC</th>\n",
       "      <th>NOME_SECCIONAL_CIRC</th>\n",
       "      <th>NOME_DELEGACIA_CIRC</th>\n",
       "      <th>ANO</th>\n",
       "      <th>MES</th>\n",
       "      <th>FLAG_STATUS</th>\n",
       "      <th>RUBRICA</th>\n",
       "      <th>DESDOBRAMENTO</th>\n",
       "      <th>CONDUTA</th>\n",
       "      <th>LATITUDE</th>\n",
       "      <th>LONGITUDE</th>\n",
       "      <th>CIDADE</th>\n",
       "      <th>LOGRADOURO</th>\n",
       "      <th>NUMERO_LOGRADOURO</th>\n",
       "      <th>FLAG_STATUS.1</th>\n",
       "      <th>Unnamed: 21</th>\n",
       "    </tr>\n",
       "  </thead>\n",
       "  <tbody>\n",
       "    <tr>\n",
       "      <th>0</th>\n",
       "      <td>3784</td>\n",
       "      <td>2016</td>\n",
       "      <td>10101</td>\n",
       "      <td>DECAP</td>\n",
       "      <td>DEL.SEC.1º CENTRO</td>\n",
       "      <td>01º D.P. SE</td>\n",
       "      <td>DECAP</td>\n",
       "      <td>DEL.SEC.1º CENTRO</td>\n",
       "      <td>78º D.P. JARDINS</td>\n",
       "      <td>2016</td>\n",
       "      <td>7</td>\n",
       "      <td>C</td>\n",
       "      <td>Furto (art. 155)</td>\n",
       "      <td>NaN</td>\n",
       "      <td>TRANSEUNTE</td>\n",
       "      <td>-23.564984</td>\n",
       "      <td>-46.652035</td>\n",
       "      <td>S.PAULO</td>\n",
       "      <td>AVENIDA PAULISTA</td>\n",
       "      <td>1000</td>\n",
       "      <td>C</td>\n",
       "      <td>NaN</td>\n",
       "    </tr>\n",
       "    <tr>\n",
       "      <th>1</th>\n",
       "      <td>3426</td>\n",
       "      <td>2016</td>\n",
       "      <td>10102</td>\n",
       "      <td>DECAP</td>\n",
       "      <td>DEL.SEC.1º CENTRO</td>\n",
       "      <td>02º D.P. BOM RETIRO</td>\n",
       "      <td>DECAP</td>\n",
       "      <td>DEL.SEC.1º CENTRO</td>\n",
       "      <td>03º D.P. CAMPOS ELISEOS</td>\n",
       "      <td>2016</td>\n",
       "      <td>5</td>\n",
       "      <td>C</td>\n",
       "      <td>Roubo (art. 157)</td>\n",
       "      <td>NaN</td>\n",
       "      <td>TRANSEUNTE</td>\n",
       "      <td>-23.542476</td>\n",
       "      <td>-46.641928</td>\n",
       "      <td>S.PAULO</td>\n",
       "      <td>PRAÇA DA REPUBLICA</td>\n",
       "      <td>0</td>\n",
       "      <td>C</td>\n",
       "      <td>NaN</td>\n",
       "    </tr>\n",
       "    <tr>\n",
       "      <th>2</th>\n",
       "      <td>6359</td>\n",
       "      <td>2016</td>\n",
       "      <td>10102</td>\n",
       "      <td>DECAP</td>\n",
       "      <td>DEL.SEC.1º CENTRO</td>\n",
       "      <td>02º D.P. BOM RETIRO</td>\n",
       "      <td>DECAP</td>\n",
       "      <td>DEL.SEC.1º CENTRO</td>\n",
       "      <td>03º D.P. CAMPOS ELISEOS</td>\n",
       "      <td>2016</td>\n",
       "      <td>10</td>\n",
       "      <td>C</td>\n",
       "      <td>Drogas sem autorização ou em desacordo (Art.33...</td>\n",
       "      <td>NaN</td>\n",
       "      <td>NaN</td>\n",
       "      <td>-23.542183</td>\n",
       "      <td>-46.640599</td>\n",
       "      <td>S.PAULO</td>\n",
       "      <td>RUA CONSELHEIRO NEBIAS</td>\n",
       "      <td>0</td>\n",
       "      <td>C</td>\n",
       "      <td>NaN</td>\n",
       "    </tr>\n",
       "    <tr>\n",
       "      <th>3</th>\n",
       "      <td>1267</td>\n",
       "      <td>2016</td>\n",
       "      <td>10103</td>\n",
       "      <td>DECAP</td>\n",
       "      <td>DEL.SEC.1º CENTRO</td>\n",
       "      <td>03º D.P. CAMPOS ELISEOS</td>\n",
       "      <td>DECAP</td>\n",
       "      <td>DEL.SEC.8º SAO MATEUS</td>\n",
       "      <td>49º D.P.  SAO MATEUS</td>\n",
       "      <td>2016</td>\n",
       "      <td>3</td>\n",
       "      <td>C</td>\n",
       "      <td>Roubo (art. 157)</td>\n",
       "      <td>NaN</td>\n",
       "      <td>CARGA</td>\n",
       "      <td>-23.609275</td>\n",
       "      <td>-46.455087</td>\n",
       "      <td>S.PAULO</td>\n",
       "      <td>RUA MADUREIRA CALHEIROS</td>\n",
       "      <td>15</td>\n",
       "      <td>C</td>\n",
       "      <td>NaN</td>\n",
       "    </tr>\n",
       "    <tr>\n",
       "      <th>4</th>\n",
       "      <td>4804</td>\n",
       "      <td>2016</td>\n",
       "      <td>10106</td>\n",
       "      <td>DECAP</td>\n",
       "      <td>DEL.SEC.1º CENTRO</td>\n",
       "      <td>06º D.P. CAMBUCI</td>\n",
       "      <td>DECAP</td>\n",
       "      <td>DEL.SEC.1º CENTRO</td>\n",
       "      <td>06º D.P. CAMBUCI</td>\n",
       "      <td>2016</td>\n",
       "      <td>12</td>\n",
       "      <td>C</td>\n",
       "      <td>Lesão corporal (art. 129)</td>\n",
       "      <td>NaN</td>\n",
       "      <td>NaN</td>\n",
       "      <td>-23.573928</td>\n",
       "      <td>-46.620693</td>\n",
       "      <td>S.PAULO</td>\n",
       "      <td>RUA ROBERTSON</td>\n",
       "      <td>625</td>\n",
       "      <td>C</td>\n",
       "      <td>NaN</td>\n",
       "    </tr>\n",
       "  </tbody>\n",
       "</table>\n",
       "</div>"
      ],
      "text/plain": [
       "   NUM_BO  ANO_BO  ID_DELEGACIA                         NOME_DEPARTAMENTO  \\\n",
       "0    3784    2016         10101  DECAP                                      \n",
       "1    3426    2016         10102  DECAP                                      \n",
       "2    6359    2016         10102  DECAP                                      \n",
       "3    1267    2016         10103  DECAP                                      \n",
       "4    4804    2016         10106  DECAP                                      \n",
       "\n",
       "                             NOME_SECCIONAL                       DELEGACIA  \\\n",
       "0  DEL.SEC.1º CENTRO                         01º D.P. SE                      \n",
       "1  DEL.SEC.1º CENTRO                         02º D.P. BOM RETIRO              \n",
       "2  DEL.SEC.1º CENTRO                         02º D.P. BOM RETIRO              \n",
       "3  DEL.SEC.1º CENTRO                         03º D.P. CAMPOS ELISEOS          \n",
       "4  DEL.SEC.1º CENTRO                         06º D.P. CAMBUCI                 \n",
       "\n",
       "                     NOME_DEPARTAMENTO_CIRC  \\\n",
       "0  DECAP                                      \n",
       "1  DECAP                                      \n",
       "2  DECAP                                      \n",
       "3  DECAP                                      \n",
       "4  DECAP                                      \n",
       "\n",
       "                        NOME_SECCIONAL_CIRC             NOME_DELEGACIA_CIRC  \\\n",
       "0  DEL.SEC.1º CENTRO                         78º D.P. JARDINS                 \n",
       "1  DEL.SEC.1º CENTRO                         03º D.P. CAMPOS ELISEOS          \n",
       "2  DEL.SEC.1º CENTRO                         03º D.P. CAMPOS ELISEOS          \n",
       "3  DEL.SEC.8º SAO MATEUS                     49º D.P.  SAO MATEUS             \n",
       "4  DEL.SEC.1º CENTRO                         06º D.P. CAMBUCI                 \n",
       "\n",
       "    ANO  MES FLAG_STATUS                                            RUBRICA  \\\n",
       "0  2016    7           C                                   Furto (art. 155)   \n",
       "1  2016    5           C                                   Roubo (art. 157)   \n",
       "2  2016   10           C  Drogas sem autorização ou em desacordo (Art.33...   \n",
       "3  2016    3           C                                   Roubo (art. 157)   \n",
       "4  2016   12           C                          Lesão corporal (art. 129)   \n",
       "\n",
       "  DESDOBRAMENTO     CONDUTA   LATITUDE  LONGITUDE  \\\n",
       "0           NaN  TRANSEUNTE -23.564984 -46.652035   \n",
       "1           NaN  TRANSEUNTE -23.542476 -46.641928   \n",
       "2           NaN         NaN -23.542183 -46.640599   \n",
       "3           NaN       CARGA -23.609275 -46.455087   \n",
       "4           NaN         NaN -23.573928 -46.620693   \n",
       "\n",
       "                                     CIDADE  \\\n",
       "0  S.PAULO                                    \n",
       "1  S.PAULO                                    \n",
       "2  S.PAULO                                    \n",
       "3  S.PAULO                                    \n",
       "4  S.PAULO                                    \n",
       "\n",
       "                                 LOGRADOURO NUMERO_LOGRADOURO FLAG_STATUS.1  \\\n",
       "0  AVENIDA PAULISTA                                      1000             C   \n",
       "1  PRAÇA DA REPUBLICA                                       0             C   \n",
       "2  RUA CONSELHEIRO NEBIAS                                   0             C   \n",
       "3  RUA MADUREIRA CALHEIROS                                 15             C   \n",
       "4  RUA ROBERTSON                                          625             C   \n",
       "\n",
       "  Unnamed: 21  \n",
       "0         NaN  \n",
       "1         NaN  \n",
       "2         NaN  \n",
       "3         NaN  \n",
       "4         NaN  "
      ]
     },
     "execution_count": 3,
     "metadata": {},
     "output_type": "execute_result"
    }
   ],
   "source": [
    "data.head()"
   ]
  },
  {
   "cell_type": "markdown",
   "metadata": {},
   "source": [
    "## 2) Breve análise exploratória"
   ]
  },
  {
   "cell_type": "code",
   "execution_count": 4,
   "metadata": {},
   "outputs": [
    {
     "name": "stdout",
     "output_type": "stream",
     "text": [
      "<class 'pandas.core.frame.DataFrame'>\n",
      "RangeIndex: 774662 entries, 0 to 774661\n",
      "Data columns (total 22 columns):\n",
      " #   Column                  Non-Null Count   Dtype  \n",
      "---  ------                  --------------   -----  \n",
      " 0   NUM_BO                  774662 non-null  int64  \n",
      " 1   ANO_BO                  774662 non-null  int64  \n",
      " 2   ID_DELEGACIA            774662 non-null  int64  \n",
      " 3   NOME_DEPARTAMENTO       774662 non-null  object \n",
      " 4   NOME_SECCIONAL          774662 non-null  object \n",
      " 5   DELEGACIA               774662 non-null  object \n",
      " 6   NOME_DEPARTAMENTO_CIRC  774662 non-null  object \n",
      " 7   NOME_SECCIONAL_CIRC     774662 non-null  object \n",
      " 8   NOME_DELEGACIA_CIRC     774662 non-null  object \n",
      " 9   ANO                     774662 non-null  int64  \n",
      " 10  MES                     774662 non-null  int64  \n",
      " 11  FLAG_STATUS             774662 non-null  object \n",
      " 12  RUBRICA                 774662 non-null  object \n",
      " 13  DESDOBRAMENTO           30092 non-null   object \n",
      " 14  CONDUTA                 658523 non-null  object \n",
      " 15  LATITUDE                731960 non-null  float64\n",
      " 16  LONGITUDE               731959 non-null  float64\n",
      " 17  CIDADE                  774662 non-null  object \n",
      " 18  LOGRADOURO              774660 non-null  object \n",
      " 19  NUMERO_LOGRADOURO       774337 non-null  object \n",
      " 20  FLAG_STATUS.1           774662 non-null  object \n",
      " 21  Unnamed: 21             24 non-null      object \n",
      "dtypes: float64(2), int64(5), object(15)\n",
      "memory usage: 130.0+ MB\n"
     ]
    }
   ],
   "source": [
    "data.info()"
   ]
  },
  {
   "cell_type": "code",
   "execution_count": null,
   "metadata": {},
   "outputs": [],
   "source": [
    "sns.heatmap(data.isnull(), cbar=False, yticklabels=False);"
   ]
  },
  {
   "cell_type": "code",
   "execution_count": null,
   "metadata": {},
   "outputs": [],
   "source": [
    "data['RUBRICA'].value_counts().plot.barh(figsize=(10,8));"
   ]
  },
  {
   "cell_type": "markdown",
   "metadata": {},
   "source": [
    "### Explorando e categorizando valores da coluna RUBRICA"
   ]
  },
  {
   "cell_type": "code",
   "execution_count": null,
   "metadata": {},
   "outputs": [],
   "source": [
    "data['RUBRICA'].unique()"
   ]
  },
  {
   "cell_type": "code",
   "execution_count": null,
   "metadata": {},
   "outputs": [],
   "source": [
    "# categoria furto\n",
    "data['RUBRICA'] = data['RUBRICA'].replace(['Furto (art. 155)',\n",
    "                                           'A.I.-Furto (art. 155)',\n",
    "                                           'Furto de coisa comum (art. 156)',\n",
    "                                           'A.I.-Furto de coisa comum (art. 156)',\n",
    "                                           'Furto qualificado (art. 155, §4o.)',\n",
    "                                           'A.I.-Furto qualificado (art. 155, §4o.)']\n",
    "                                          ,'Furto')\n",
    "\n",
    "# categoria roubo\n",
    "data['RUBRICA'] = data['RUBRICA'].replace(['Roubo (art. 157)',\n",
    "                                           'A.I.-Roubo (art. 157)',]\n",
    "                                          ,'Roubo')\n",
    "\n",
    "# categoria envolvendo drogas\n",
    "data['RUBRICA'] = data['RUBRICA'].replace(['Drogas sem autorização ou em desacordo (Art.33, caput)',\n",
    "                                           'A.I.-Drogas sem autorização ou em desacordo (Art.33, caput)',\n",
    "                                           'Induzir, instigar ou auxiliar alguém ao uso indevido de droga(Art.33,§2º)',\n",
    "                                           'A.I.-Tráfico de entorpecente (Art. 12)',\n",
    "                                           'A.I.-Porte de entorpecente (Art. 16)',\n",
    "                                           'A.I.-Oferecer droga a pessoa de seu relacionamento (Art.33,§3º)',\n",
    "                                           'Oferecer droga a pessoa de seu relacionamento (Art.33,§3º)']\n",
    "                                          ,'Crimes envolvendo drogas')\n",
    "\n",
    "# categoria de lesões corporais\n",
    "data['RUBRICA'] = data['RUBRICA'].replace(['Lesão corporal (art. 129)',\n",
    "                                           'Lesão corporal (art 129 § 9º)',\n",
    "                                           'Lesão corporal culposa (art. 129. §6o.)',\n",
    "                                           'Lesão corporal de natureza GRAVE (art. 129, §1o.)',\n",
    "                                           'A.I.-Lesão corporal de natureza GRAVE (art. 129, §1o.)',\n",
    "                                           'A.I.-Lesão corporal (art 129 § 9º)',\n",
    "                                           \"Lesão corporal  de natureza 'GRAVÍSSIMA' (art. 129, §2o.)\",\n",
    "                                           \"A.I.-Lesão corporal  de natureza 'GRAVÍSSIMA' (art. 129, §2o.)\",\n",
    "                                           'A.I.-Lesão corporal culposa (art. 129. §6o.)',\n",
    "                                           'A.I.-Lesão corporal (art. 129)']\n",
    "                                          ,'Lesão corporal')\n",
    "\n",
    "# crimes sexuais\n",
    "data['RUBRICA'] = data['RUBRICA'].replace(['Estupro (art.213)',\n",
    "                                           'A.I.-Estupro de vulneravel (art.217-A)',\n",
    "                                           'Estupro de vulneravel (art.217-A)']\n",
    "                                          ,'Crime sexual')\n",
    "\n",
    "# homicídios culposos\n",
    "data['RUBRICA'] = data['RUBRICA'].replace(['A.I.-Homicídio culposo (art. 121, §3o.)',\n",
    "                                           'Homicídio culposo (art. 121, §3o.)']\n",
    "                                          ,'Crime sexual')\n",
    "\n",
    "# homicídios dolosos\n",
    "data['RUBRICA'] = data['RUBRICA'].replace(['A.I.-Homicídio qualificado (art. 121, §2o.)',\n",
    "                                           'Homicídio qualificado (art. 121, §2o.)',\n",
    "                                           'Homicídio simples (art. 121)',\n",
    "                                           'A.I.-Homicídio simples (art. 121)',\n",
    "                                           'Lesão corporal seguida de morte (art. 129, §3o.)']\n",
    "                                          ,'Homicídio doloso')\n",
    "\n",
    "\n",
    "# lesoes corporais envolvendo veículos\n",
    "data['RUBRICA'] = data['RUBRICA'].replace(['Lesão corporal culposa na direção de veículo automotor (Art. 303)',\n",
    "                                           'A.I.-Lesão corporal culposa na direção de veículo automotor (Art. 303)']\n",
    "                                          ,'Lesão envolvendo veículos')\n",
    "\n",
    "# homicídios envolvendo veículos\n",
    "data['RUBRICA'] = data['RUBRICA'].replace(['A.I.-Homicídio culposo na direção de veículo automotor (Art. 302)',\n",
    "                                           'Homicídio culposo na direção de veículo automotor (Art. 302)']\n",
    "                                          ,'Homicídio envolvendo veículos')"
   ]
  },
  {
   "cell_type": "code",
   "execution_count": null,
   "metadata": {},
   "outputs": [],
   "source": [
    "data['RUBRICA'].unique()"
   ]
  },
  {
   "cell_type": "code",
   "execution_count": null,
   "metadata": {
    "scrolled": true
   },
   "outputs": [],
   "source": [
    "data['RUBRICA'].value_counts()"
   ]
  },
  {
   "cell_type": "code",
   "execution_count": null,
   "metadata": {},
   "outputs": [],
   "source": [
    "data['RUBRICA'].value_counts().plot.barh(figsize=(15,8));"
   ]
  },
  {
   "cell_type": "code",
   "execution_count": null,
   "metadata": {},
   "outputs": [],
   "source": [
    "data['DELEGACIA'].value_counts().nlargest(50)"
   ]
  },
  {
   "cell_type": "code",
   "execution_count": null,
   "metadata": {},
   "outputs": [],
   "source": [
    "data['DELEGACIA'].value_counts().nlargest(10).plot.barh(figsize=(12,12*0.45));"
   ]
  },
  {
   "cell_type": "code",
   "execution_count": null,
   "metadata": {},
   "outputs": [],
   "source": [
    "data['MES'].value_counts(ascending=True).sort_index()"
   ]
  },
  {
   "cell_type": "code",
   "execution_count": null,
   "metadata": {
    "scrolled": false
   },
   "outputs": [],
   "source": [
    "plt.figure(figsize=(8*1.68,8))\n",
    "sns.countplot(data=data, x='MES', color='Blue');"
   ]
  },
  {
   "cell_type": "code",
   "execution_count": null,
   "metadata": {
    "scrolled": false
   },
   "outputs": [],
   "source": [
    "fig, (ax1, ax2) = plt.subplots(1, 2, figsize=(15,15*0.45))\n",
    "fig.suptitle('Contagem de ocorrências por mês')\n",
    "\n",
    "ax1.plot(data['MES'].value_counts().sort_index())\n",
    "ax1.set_ylim(0,80000)\n",
    "ax1.set_xlim(1,12)\n",
    "ax1.xaxis.set_major_locator(plticker.MultipleLocator(base=1.0))\n",
    "ax1.set(xlabel='mês', ylabel='quantidade', title='Ocorrências por mês');\n",
    "\n",
    "ax2.plot(data['MES'].value_counts().sort_index())\n",
    "ax2.set_ylim(60000,80000)\n",
    "ax2.set_xlim(1,12)\n",
    "ax2.xaxis.set_major_locator(plticker.MultipleLocator(base=1.0))\n",
    "ax2.set(xlabel='mês', ylabel='quantidade', title='Detalhe das ocorrências por mês');"
   ]
  },
  {
   "cell_type": "code",
   "execution_count": null,
   "metadata": {},
   "outputs": [],
   "source": [
    "# cálculo de quanto evoluiu em relação ao mês passado (em percentagem)\n",
    "# mudança percentual a partir do valor anterior, portanto o mês 2 em relação ao mês 3\n",
    "# 'aceleração percentual' na diferença da quantidade de ocorrências reportadas em B.O.s\n",
    "\n",
    "contagem_dados_mes = data['MES'].value_counts(ascending=True).sort_index()\n",
    "\n",
    "contagem_dados_mes.pct_change()"
   ]
  },
  {
   "cell_type": "code",
   "execution_count": null,
   "metadata": {},
   "outputs": [],
   "source": [
    "# plotando em gráfico, indicando linha base 0 para melhor visualização\n",
    "\n",
    "plt.figure(figsize=(8*1.68,8))\n",
    "\n",
    "ax = contagem_dados_mes.pct_change().plot()\n",
    "ax.axhline(0, ls='--', color='red')\n",
    "ax.set_xlim(1,12)\n",
    "\n",
    "plt.xticks(np.arange(1,13,1)); #setando valores do eixo X, entre 1 e 13, de um em um\n",
    "\n",
    "# sns.despine(offset=10, trim=True);"
   ]
  },
  {
   "cell_type": "markdown",
   "metadata": {},
   "source": [
    "## 3) Manipular o dataset\n",
    "### Selecionando e ordenando colunas que irão compor meu dataset para georreferenciar - operação alinhada com o objetivo de identificar no mapa as ocorrências"
   ]
  },
  {
   "cell_type": "code",
   "execution_count": null,
   "metadata": {},
   "outputs": [],
   "source": [
    "data_geo = data[['NUM_BO','DELEGACIA','RUBRICA','MES','LATITUDE','LONGITUDE']]"
   ]
  },
  {
   "cell_type": "code",
   "execution_count": null,
   "metadata": {},
   "outputs": [],
   "source": [
    "data_geo"
   ]
  },
  {
   "cell_type": "markdown",
   "metadata": {},
   "source": [
    "### Limpando linhas cujo valor na coluna 'LATITUDE' é nulo"
   ]
  },
  {
   "cell_type": "code",
   "execution_count": null,
   "metadata": {},
   "outputs": [],
   "source": [
    "sns.heatmap(data_geo.isnull(), cbar=False, yticklabels=False);"
   ]
  },
  {
   "cell_type": "code",
   "execution_count": null,
   "metadata": {},
   "outputs": [],
   "source": [
    "data_geo = data_geo.dropna(subset=['LATITUDE'])"
   ]
  },
  {
   "cell_type": "code",
   "execution_count": null,
   "metadata": {},
   "outputs": [],
   "source": [
    "sns.heatmap(data_geo.isnull(), cbar=False, yticklabels=False);"
   ]
  },
  {
   "cell_type": "markdown",
   "metadata": {},
   "source": [
    "### Selecionando uma amostra estatisticamente proporcional"
   ]
  },
  {
   "cell_type": "code",
   "execution_count": null,
   "metadata": {},
   "outputs": [],
   "source": [
    "# usar o sample pode ser uma alternativa, porém queremos uma amostra proporcional, o que o sample não oferece\n",
    "\n",
    "# data_geo = data_geo.sample(1500)"
   ]
  },
  {
   "cell_type": "code",
   "execution_count": null,
   "metadata": {},
   "outputs": [],
   "source": [
    "pd.DataFrame(columns=data_geo.columns)"
   ]
  },
  {
   "cell_type": "code",
   "execution_count": null,
   "metadata": {},
   "outputs": [],
   "source": [
    "amostra = pd.DataFrame(columns=data_geo.columns)"
   ]
  },
  {
   "cell_type": "code",
   "execution_count": null,
   "metadata": {},
   "outputs": [],
   "source": [
    "# algorítimo para pegar amostra proporcional dos meses (proporcionalidade 2 para 1000)\n",
    "\n",
    "for mes in range(1,13,1):\n",
    "    amostra = amostra.append(data_geo[data_geo['MES'] == mes].sample(int(len(data_geo[data_geo['MES'] == mes])*0.002)))"
   ]
  },
  {
   "cell_type": "code",
   "execution_count": null,
   "metadata": {},
   "outputs": [],
   "source": [
    "amostra"
   ]
  },
  {
   "cell_type": "markdown",
   "metadata": {},
   "source": [
    "## Organizando a visualização do que fizemos acima"
   ]
  },
  {
   "cell_type": "code",
   "execution_count": null,
   "metadata": {},
   "outputs": [],
   "source": [
    "total = data_geo['MES'].value_counts().sort_index()\n",
    "\n",
    "amostragem = amostra['MES'].value_counts().sort_index()\n",
    "\n",
    "percent_amostra = 100*(amostra['MES'].value_counts()/data_geo['MES'].value_counts())"
   ]
  },
  {
   "cell_type": "code",
   "execution_count": null,
   "metadata": {},
   "outputs": [],
   "source": [
    "comparacao = {'Total': total, 'Amostra': amostragem, '% amostra': percent_amostra}\n",
    "\n",
    "pd.DataFrame.from_dict(comparacao)"
   ]
  },
  {
   "cell_type": "markdown",
   "metadata": {},
   "source": [
    "## Salvando a amostra em documento csv"
   ]
  },
  {
   "cell_type": "code",
   "execution_count": null,
   "metadata": {},
   "outputs": [],
   "source": [
    "amostra.to_csv('amostra_data_geo_bo2016.csv')"
   ]
  }
 ],
 "metadata": {
  "kernelspec": {
   "display_name": "Python 3",
   "language": "python",
   "name": "python3"
  },
  "language_info": {
   "codemirror_mode": {
    "name": "ipython",
    "version": 3
   },
   "file_extension": ".py",
   "mimetype": "text/x-python",
   "name": "python",
   "nbconvert_exporter": "python",
   "pygments_lexer": "ipython3",
   "version": "3.7.6"
  }
 },
 "nbformat": 4,
 "nbformat_minor": 4
}
